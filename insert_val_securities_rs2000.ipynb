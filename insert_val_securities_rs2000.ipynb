{
 "cells": [
  {
   "cell_type": "code",
   "execution_count": 1,
   "metadata": {},
   "outputs": [],
   "source": [
    "import pyodbc\n",
    "import pandas as pd"
   ]
  },
  {
   "cell_type": "code",
   "execution_count": 2,
   "metadata": {},
   "outputs": [],
   "source": [
    "rs_2000_stack = pd.read_excel(\"data/russell_2000.xlsx\",engine=\"openpyxl\")"
   ]
  },
  {
   "cell_type": "code",
   "execution_count": 3,
   "metadata": {},
   "outputs": [],
   "source": [
    "connection = pyodbc.connect('Driver=SQL Server;'\n",
    "                      'Server=DESKTOP-0CQQR1E\\SQLEXPRESS;'\n",
    "                      'Database=securities_master;'\n",
    "                      'Trusted_Connection=yes;')\n",
    "cursor=connection.cursor()"
   ]
  },
  {
   "cell_type": "code",
   "execution_count": 4,
   "metadata": {},
   "outputs": [],
   "source": [
    "\n",
    "from time import gmtime, strftime\n",
    "strftime(\"%Y-%m-%d %H:%M:%S\", gmtime())\n",
    "\n",
    "for idx in range(len(rs_2000_stack)):\n",
    "    record=rs_2000_stack.iloc[idx]\n",
    "    curr_time=strftime(\"%Y-%m-%d %H:%M:%S\", gmtime())\n",
    "    from math import isnan\n",
    "    if not isinstance(record[\"Sector\"],float):\n",
    "   \n",
    "        insert_str = f\"\"\"\n",
    "        INSERT INTO securities_rs2000\n",
    "        ( \n",
    "        sec_id,\n",
    "        ticker, \n",
    "        instrument, \n",
    "        company_name, \n",
    "        sector, \n",
    "        industry, \n",
    "        headquarters_location,\n",
    "        created_date,\n",
    "        last_updated_date)\n",
    "        values\n",
    "        {\n",
    "        idx,\n",
    "        record['Ticker'], \n",
    "        'common stock', \n",
    "        record['Name'].replace(\"'\",\" \"), \n",
    "        record['Sector'], \n",
    "        \"None\", \n",
    "        \"None\", \n",
    "        curr_time, \n",
    "        curr_time,\n",
    "        }\n",
    "        \"\"\"\n",
    "\n",
    "        cursor.execute(insert_str)\n",
    "        connection.commit()\n",
    "connection.close()\n",
    "\n",
    "\n"
   ]
  },
  {
   "cell_type": "code",
   "execution_count": null,
   "metadata": {},
   "outputs": [],
   "source": []
  },
  {
   "cell_type": "code",
   "execution_count": null,
   "metadata": {},
   "outputs": [],
   "source": []
  }
 ],
 "metadata": {
  "kernelspec": {
   "display_name": "Python 3",
   "language": "python",
   "name": "python3"
  },
  "language_info": {
   "codemirror_mode": {
    "name": "ipython",
    "version": 3
   },
   "file_extension": ".py",
   "mimetype": "text/x-python",
   "name": "python",
   "nbconvert_exporter": "python",
   "pygments_lexer": "ipython3",
   "version": "3.8.0"
  }
 },
 "nbformat": 4,
 "nbformat_minor": 2
}
