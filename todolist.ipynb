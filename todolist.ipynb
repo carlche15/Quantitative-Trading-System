{
 "cells": [
  {
   "cell_type": "code",
   "execution_count": null,
   "id": "prerequisite-tunnel",
   "metadata": {},
   "outputs": [],
   "source": [
    "# 1. encrypto access\n"
   ]
  }
 ],
 "metadata": {
  "kernelspec": {
   "display_name": "Python [conda env:quanttools_env] *",
   "language": "python",
   "name": "conda-env-quanttools_env-py"
  },
  "language_info": {
   "codemirror_mode": {
    "name": "ipython",
    "version": 3
   },
   "file_extension": ".py",
   "mimetype": "text/x-python",
   "name": "python",
   "nbconvert_exporter": "python",
   "pygments_lexer": "ipython3",
   "version": "3.7.9"
  }
 },
 "nbformat": 4,
 "nbformat_minor": 5
}
