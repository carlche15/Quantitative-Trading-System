{
 "cells": [
  {
   "cell_type": "code",
   "execution_count": 1,
   "metadata": {},
   "outputs": [],
   "source": [
    "from data_handlers import StockHistDataHandler,ComputeSuite\n",
    "import pandas as pd\n",
    "import matplotlib.pyplot as plt\n",
    "import numpy as np\n",
    "import seaborn as sns\n",
    "%config Completer.use_jedi = False\n",
    "import warnings\n",
    "warnings.filterwarnings(\"ignore\")\n",
    "from statsmodels.graphics.tsaplots import plot_acf, plot_pacf\n",
    "import xarray as xr\n",
    "data_handler = StockHistDataHandler()\n",
    "from utilities import *"
   ]
  },
  {
   "cell_type": "code",
   "execution_count": 2,
   "metadata": {},
   "outputs": [],
   "source": [
    "\n",
    "    \n",
    "    \n",
    "def fuck_pd_rolling(window,data, func, *args,**kwargs):\n",
    " \n",
    "    df_idx = data.index\n",
    "    result_df = pd.DataFrame().reindex_like(data)\n",
    "\n",
    "    for i in range(len(df_idx)):      \n",
    "        sub_df = data.loc[df_idx[i-window+1]:df_idx[i]]\n",
    "        result_df.loc[df_idx[i]]=func(sub_df,*args,**kwargs)\n",
    "    return result_df\n",
    " "
   ]
  },
  {
   "cell_type": "code",
   "execution_count": 3,
   "metadata": {},
   "outputs": [
    {
     "data": {
      "text/plain": [
       "array(['Communication Services', 'Consumer Discretionary',\n",
       "       'Consumer Staples', 'Energy', 'Financials', 'Health Care',\n",
       "       'Industrials', 'Information Technology', 'Materials',\n",
       "       'Real Estate', 'Utilities'], dtype=object)"
      ]
     },
     "execution_count": 3,
     "metadata": {},
     "output_type": "execute_result"
    }
   ],
   "source": [
    "static = data_handler(sql = \"select * from securities\")\n",
    "np.unique(static[\"sector\"])"
   ]
  },
  {
   "cell_type": "code",
   "execution_count": 4,
   "metadata": {},
   "outputs": [],
   "source": [
    "tickers = data_handler(sql = \"select ticker from securities\").values.ravel()\n",
    "ts_range = [\"2010-01-05\", \"2020-01-20\"]\n",
    "selected_tickers = tickers\n",
    "all_data = data_handler.get_data(ticker = selected_tickers, invest_horizen = ts_range)"
   ]
  },
  {
   "cell_type": "code",
   "execution_count": 53,
   "metadata": {},
   "outputs": [],
   "source": [
    "start_trading = \"2017-01-5\"\n",
    "returns = ComputeSuite.pct_return(all_data.loc[:,:,start_trading:])\n",
    "returns.index = all_data.loc[:,:,start_trading:].ticker\n",
    "returns.columns = np.array(all_data.loc[:,:,start_trading:][\"eff_date\"])\n",
    "returns.loc[\"MARKET\"] = returns.mean(axis=0)\n",
    "returns = returns.T"
   ]
  },
  {
   "cell_type": "code",
   "execution_count": 54,
   "metadata": {},
   "outputs": [],
   "source": [
    "def buy_low(sub_df):\n",
    "    if len(sub_df)<1:   \n",
    "        return np.nan*np.ones_like(sub_df.columns)\n",
    "    sig = np.zeros(sub_df.shape[1])\n",
    "    ########do not change the above line: todo: make a general decorator\n",
    "    \n",
    "    \n",
    "    previous_market = np.nanmean(sub_df.values[0])\n",
    "    previous_returns = sub_df.values[0]\n",
    "    actual_returns = sub_df.values[1]\n",
    "    mkt_condition = (previous_market>0.005)\n",
    "    stock_condition = (previous_returns<-0.02)\n",
    "\n",
    "    \n",
    "    sig[stock_condition&mkt_condition] = actual_returns[stock_condition&mkt_condition]\n",
    "    return sig\n",
    "        \n",
    "buy_returns = fuck_pd_rolling(2, returns, buy_low)"
   ]
  },
  {
   "cell_type": "code",
   "execution_count": 55,
   "metadata": {},
   "outputs": [
    {
     "data": {
      "image/png": "[encoded data removed]",
      "text/plain": [
       "<Figure size 864x216 with 2 Axes>"
      ]
     },
     "metadata": {
      "needs_background": "light"
     },
     "output_type": "display_data"
    }
   ],
   "source": [
    "fig = plt.figure(figsize=(12,3))\n",
    "_ = sns.heatmap(np.clip(buy_returns,-0.06,0.06).T,cmap=\"PiYG\").set(xticklabels=[])\n"
   ]
  },
  {
   "cell_type": "code",
   "execution_count": 56,
   "metadata": {},
   "outputs": [
    {
     "data": {
      "text/html": [
       "<div>\n",
       "<style scoped>\n",
       "    .dataframe tbody tr th:only-of-type {\n",
       "        vertical-align: middle;\n",
       "    }\n",
       "\n",
       "    .dataframe tbody tr th {\n",
       "        vertical-align: top;\n",
       "    }\n",
       "\n",
       "    .dataframe thead th {\n",
       "        text-align: right;\n",
       "    }\n",
       "</style>\n",
       "<table border=\"1\" class=\"dataframe\">\n",
       "  <thead>\n",
       "    <tr style=\"text-align: right;\">\n",
       "      <th>ticker</th>\n",
       "      <th>A</th>\n",
       "      <th>AAL</th>\n",
       "      <th>AAP</th>\n",
       "      <th>AAPL</th>\n",
       "      <th>ABBV</th>\n",
       "      <th>ABC</th>\n",
       "      <th>ABMD</th>\n",
       "      <th>ABT</th>\n",
       "      <th>ACN</th>\n",
       "      <th>ADBE</th>\n",
       "      <th>...</th>\n",
       "      <th>XOM</th>\n",
       "      <th>XRAY</th>\n",
       "      <th>XRX</th>\n",
       "      <th>XYL</th>\n",
       "      <th>YUM</th>\n",
       "      <th>ZBH</th>\n",
       "      <th>ZBRA</th>\n",
       "      <th>ZION</th>\n",
       "      <th>ZTS</th>\n",
       "      <th>MARKET</th>\n",
       "    </tr>\n",
       "  </thead>\n",
       "  <tbody>\n",
       "    <tr>\n",
       "      <th>2017-01-05</th>\n",
       "      <td>NaN</td>\n",
       "      <td>NaN</td>\n",
       "      <td>NaN</td>\n",
       "      <td>NaN</td>\n",
       "      <td>NaN</td>\n",
       "      <td>NaN</td>\n",
       "      <td>NaN</td>\n",
       "      <td>NaN</td>\n",
       "      <td>NaN</td>\n",
       "      <td>NaN</td>\n",
       "      <td>...</td>\n",
       "      <td>NaN</td>\n",
       "      <td>NaN</td>\n",
       "      <td>NaN</td>\n",
       "      <td>NaN</td>\n",
       "      <td>NaN</td>\n",
       "      <td>NaN</td>\n",
       "      <td>NaN</td>\n",
       "      <td>NaN</td>\n",
       "      <td>NaN</td>\n",
       "      <td>NaN</td>\n",
       "    </tr>\n",
       "    <tr>\n",
       "      <th>2017-01-06</th>\n",
       "      <td>0.0</td>\n",
       "      <td>0.0</td>\n",
       "      <td>0.000000</td>\n",
       "      <td>0.0</td>\n",
       "      <td>0.0</td>\n",
       "      <td>0.0</td>\n",
       "      <td>0.000000</td>\n",
       "      <td>0.0</td>\n",
       "      <td>0.0</td>\n",
       "      <td>0.0</td>\n",
       "      <td>...</td>\n",
       "      <td>0.0</td>\n",
       "      <td>0.0</td>\n",
       "      <td>0.0</td>\n",
       "      <td>0.0</td>\n",
       "      <td>0.0</td>\n",
       "      <td>0.0</td>\n",
       "      <td>0.0</td>\n",
       "      <td>0.0</td>\n",
       "      <td>0.0</td>\n",
       "      <td>0.0</td>\n",
       "    </tr>\n",
       "    <tr>\n",
       "      <th>2017-01-09</th>\n",
       "      <td>0.0</td>\n",
       "      <td>0.0</td>\n",
       "      <td>0.000000</td>\n",
       "      <td>0.0</td>\n",
       "      <td>0.0</td>\n",
       "      <td>0.0</td>\n",
       "      <td>0.000000</td>\n",
       "      <td>0.0</td>\n",
       "      <td>0.0</td>\n",
       "      <td>0.0</td>\n",
       "      <td>...</td>\n",
       "      <td>0.0</td>\n",
       "      <td>0.0</td>\n",
       "      <td>0.0</td>\n",
       "      <td>0.0</td>\n",
       "      <td>0.0</td>\n",
       "      <td>0.0</td>\n",
       "      <td>0.0</td>\n",
       "      <td>0.0</td>\n",
       "      <td>0.0</td>\n",
       "      <td>0.0</td>\n",
       "    </tr>\n",
       "    <tr>\n",
       "      <th>2017-01-10</th>\n",
       "      <td>0.0</td>\n",
       "      <td>0.0</td>\n",
       "      <td>0.000000</td>\n",
       "      <td>0.0</td>\n",
       "      <td>0.0</td>\n",
       "      <td>0.0</td>\n",
       "      <td>0.000000</td>\n",
       "      <td>0.0</td>\n",
       "      <td>0.0</td>\n",
       "      <td>0.0</td>\n",
       "      <td>...</td>\n",
       "      <td>0.0</td>\n",
       "      <td>0.0</td>\n",
       "      <td>0.0</td>\n",
       "      <td>0.0</td>\n",
       "      <td>0.0</td>\n",
       "      <td>0.0</td>\n",
       "      <td>0.0</td>\n",
       "      <td>0.0</td>\n",
       "      <td>0.0</td>\n",
       "      <td>0.0</td>\n",
       "    </tr>\n",
       "    <tr>\n",
       "      <th>2017-01-11</th>\n",
       "      <td>0.0</td>\n",
       "      <td>0.0</td>\n",
       "      <td>0.000000</td>\n",
       "      <td>0.0</td>\n",
       "      <td>0.0</td>\n",
       "      <td>0.0</td>\n",
       "      <td>0.000000</td>\n",
       "      <td>0.0</td>\n",
       "      <td>0.0</td>\n",
       "      <td>0.0</td>\n",
       "      <td>...</td>\n",
       "      <td>0.0</td>\n",
       "      <td>0.0</td>\n",
       "      <td>0.0</td>\n",
       "      <td>0.0</td>\n",
       "      <td>0.0</td>\n",
       "      <td>0.0</td>\n",
       "      <td>0.0</td>\n",
       "      <td>0.0</td>\n",
       "      <td>0.0</td>\n",
       "      <td>0.0</td>\n",
       "    </tr>\n",
       "    <tr>\n",
       "      <th>...</th>\n",
       "      <td>...</td>\n",
       "      <td>...</td>\n",
       "      <td>...</td>\n",
       "      <td>...</td>\n",
       "      <td>...</td>\n",
       "      <td>...</td>\n",
       "      <td>...</td>\n",
       "      <td>...</td>\n",
       "      <td>...</td>\n",
       "      <td>...</td>\n",
       "      <td>...</td>\n",
       "      <td>...</td>\n",
       "      <td>...</td>\n",
       "      <td>...</td>\n",
       "      <td>...</td>\n",
       "      <td>...</td>\n",
       "      <td>...</td>\n",
       "      <td>...</td>\n",
       "      <td>...</td>\n",
       "      <td>...</td>\n",
       "      <td>...</td>\n",
       "    </tr>\n",
       "    <tr>\n",
       "      <th>2020-01-13</th>\n",
       "      <td>0.0</td>\n",
       "      <td>0.0</td>\n",
       "      <td>0.000000</td>\n",
       "      <td>0.0</td>\n",
       "      <td>0.0</td>\n",
       "      <td>0.0</td>\n",
       "      <td>0.000000</td>\n",
       "      <td>0.0</td>\n",
       "      <td>0.0</td>\n",
       "      <td>0.0</td>\n",
       "      <td>...</td>\n",
       "      <td>0.0</td>\n",
       "      <td>0.0</td>\n",
       "      <td>0.0</td>\n",
       "      <td>0.0</td>\n",
       "      <td>0.0</td>\n",
       "      <td>0.0</td>\n",
       "      <td>0.0</td>\n",
       "      <td>0.0</td>\n",
       "      <td>0.0</td>\n",
       "      <td>0.0</td>\n",
       "    </tr>\n",
       "    <tr>\n",
       "      <th>2020-01-14</th>\n",
       "      <td>0.0</td>\n",
       "      <td>0.0</td>\n",
       "      <td>0.025059</td>\n",
       "      <td>0.0</td>\n",
       "      <td>0.0</td>\n",
       "      <td>0.0</td>\n",
       "      <td>0.027543</td>\n",
       "      <td>0.0</td>\n",
       "      <td>0.0</td>\n",
       "      <td>0.0</td>\n",
       "      <td>...</td>\n",
       "      <td>0.0</td>\n",
       "      <td>0.0</td>\n",
       "      <td>0.0</td>\n",
       "      <td>0.0</td>\n",
       "      <td>0.0</td>\n",
       "      <td>0.0</td>\n",
       "      <td>0.0</td>\n",
       "      <td>0.0</td>\n",
       "      <td>0.0</td>\n",
       "      <td>0.0</td>\n",
       "    </tr>\n",
       "    <tr>\n",
       "      <th>2020-01-15</th>\n",
       "      <td>0.0</td>\n",
       "      <td>0.0</td>\n",
       "      <td>0.000000</td>\n",
       "      <td>0.0</td>\n",
       "      <td>0.0</td>\n",
       "      <td>0.0</td>\n",
       "      <td>0.000000</td>\n",
       "      <td>0.0</td>\n",
       "      <td>0.0</td>\n",
       "      <td>0.0</td>\n",
       "      <td>...</td>\n",
       "      <td>0.0</td>\n",
       "      <td>0.0</td>\n",
       "      <td>0.0</td>\n",
       "      <td>0.0</td>\n",
       "      <td>0.0</td>\n",
       "      <td>0.0</td>\n",
       "      <td>0.0</td>\n",
       "      <td>0.0</td>\n",
       "      <td>0.0</td>\n",
       "      <td>0.0</td>\n",
       "    </tr>\n",
       "    <tr>\n",
       "      <th>2020-01-16</th>\n",
       "      <td>0.0</td>\n",
       "      <td>0.0</td>\n",
       "      <td>0.000000</td>\n",
       "      <td>0.0</td>\n",
       "      <td>0.0</td>\n",
       "      <td>0.0</td>\n",
       "      <td>0.000000</td>\n",
       "      <td>0.0</td>\n",
       "      <td>0.0</td>\n",
       "      <td>0.0</td>\n",
       "      <td>...</td>\n",
       "      <td>0.0</td>\n",
       "      <td>0.0</td>\n",
       "      <td>0.0</td>\n",
       "      <td>0.0</td>\n",
       "      <td>0.0</td>\n",
       "      <td>0.0</td>\n",
       "      <td>0.0</td>\n",
       "      <td>0.0</td>\n",
       "      <td>0.0</td>\n",
       "      <td>0.0</td>\n",
       "    </tr>\n",
       "    <tr>\n",
       "      <th>2020-01-17</th>\n",
       "      <td>0.0</td>\n",
       "      <td>0.0</td>\n",
       "      <td>0.000000</td>\n",
       "      <td>0.0</td>\n",
       "      <td>0.0</td>\n",
       "      <td>0.0</td>\n",
       "      <td>0.000000</td>\n",
       "      <td>0.0</td>\n",
       "      <td>0.0</td>\n",
       "      <td>0.0</td>\n",
       "      <td>...</td>\n",
       "      <td>0.0</td>\n",
       "      <td>0.0</td>\n",
       "      <td>0.0</td>\n",
       "      <td>0.0</td>\n",
       "      <td>0.0</td>\n",
       "      <td>0.0</td>\n",
       "      <td>0.0</td>\n",
       "      <td>0.0</td>\n",
       "      <td>0.0</td>\n",
       "      <td>0.0</td>\n",
       "    </tr>\n",
       "  </tbody>\n",
       "</table>\n",
       "<p>764 rows × 500 columns</p>\n",
       "</div>"
      ],
      "text/plain": [
       "ticker        A  AAL       AAP  AAPL  ABBV  ABC      ABMD  ABT  ACN  ADBE  \\\n",
       "2017-01-05  NaN  NaN       NaN   NaN   NaN  NaN       NaN  NaN  NaN   NaN   \n",
       "2017-01-06  0.0  0.0  0.000000   0.0   0.0  0.0  0.000000  0.0  0.0   0.0   \n",
       "2017-01-09  0.0  0.0  0.000000   0.0   0.0  0.0  0.000000  0.0  0.0   0.0   \n",
       "2017-01-10  0.0  0.0  0.000000   0.0   0.0  0.0  0.000000  0.0  0.0   0.0   \n",
       "2017-01-11  0.0  0.0  0.000000   0.0   0.0  0.0  0.000000  0.0  0.0   0.0   \n",
       "...         ...  ...       ...   ...   ...  ...       ...  ...  ...   ...   \n",
       "2020-01-13  0.0  0.0  0.000000   0.0   0.0  0.0  0.000000  0.0  0.0   0.0   \n",
       "2020-01-14  0.0  0.0  0.025059   0.0   0.0  0.0  0.027543  0.0  0.0   0.0   \n",
       "2020-01-15  0.0  0.0  0.000000   0.0   0.0  0.0  0.000000  0.0  0.0   0.0   \n",
       "2020-01-16  0.0  0.0  0.000000   0.0   0.0  0.0  0.000000  0.0  0.0   0.0   \n",
       "2020-01-17  0.0  0.0  0.000000   0.0   0.0  0.0  0.000000  0.0  0.0   0.0   \n",
       "\n",
       "ticker      ...  XOM  XRAY  XRX  XYL  YUM  ZBH  ZBRA  ZION  ZTS  MARKET  \n",
       "2017-01-05  ...  NaN   NaN  NaN  NaN  NaN  NaN   NaN   NaN  NaN     NaN  \n",
       "2017-01-06  ...  0.0   0.0  0.0  0.0  0.0  0.0   0.0   0.0  0.0     0.0  \n",
       "2017-01-09  ...  0.0   0.0  0.0  0.0  0.0  0.0   0.0   0.0  0.0     0.0  \n",
       "2017-01-10  ...  0.0   0.0  0.0  0.0  0.0  0.0   0.0   0.0  0.0     0.0  \n",
       "2017-01-11  ...  0.0   0.0  0.0  0.0  0.0  0.0   0.0   0.0  0.0     0.0  \n",
       "...         ...  ...   ...  ...  ...  ...  ...   ...   ...  ...     ...  \n",
       "2020-01-13  ...  0.0   0.0  0.0  0.0  0.0  0.0   0.0   0.0  0.0     0.0  \n",
       "2020-01-14  ...  0.0   0.0  0.0  0.0  0.0  0.0   0.0   0.0  0.0     0.0  \n",
       "2020-01-15  ...  0.0   0.0  0.0  0.0  0.0  0.0   0.0   0.0  0.0     0.0  \n",
       "2020-01-16  ...  0.0   0.0  0.0  0.0  0.0  0.0   0.0   0.0  0.0     0.0  \n",
       "2020-01-17  ...  0.0   0.0  0.0  0.0  0.0  0.0   0.0   0.0  0.0     0.0  \n",
       "\n",
       "[764 rows x 500 columns]"
      ]
     },
     "execution_count": 56,
     "metadata": {},
     "output_type": "execute_result"
    }
   ],
   "source": [
    "buy_returns"
   ]
  },
  {
   "cell_type": "code",
   "execution_count": 58,
   "metadata": {},
   "outputs": [
    {
     "name": "stdout",
     "output_type": "stream",
     "text": [
      "buy:0.16326\n",
      "mkt:0.06538\n"
     ]
    },
    {
     "data": {
      "image/png": "[encoded data removed]",
      "text/plain": [
       "<Figure size 432x288 with 1 Axes>"
      ]
     },
     "metadata": {
      "needs_background": "light"
     },
     "output_type": "display_data"
    }
   ],
   "source": [
    "buy_returns[buy_returns==0]=np.nan\n",
    "sns.kdeplot(np.nanmean(buy_returns,axis=1))\n",
    "sns.kdeplot(returns[\"MARKET\"].values)\n",
    "\n",
    "print(f\"buy:{100*np.nanmean(np.nanmean(buy_returns,axis=1)):.5f}\")\n",
    "print(f\"mkt:{100*np.nanmean(returns['MARKET'].values):.5f}\")"
   ]
  },
  {
   "cell_type": "code",
   "execution_count": 59,
   "metadata": {},
   "outputs": [
    {
     "data": {
      "text/plain": [
       "12.032155768297464"
      ]
     },
     "execution_count": 59,
     "metadata": {},
     "output_type": "execute_result"
    }
   ],
   "source": [
    "1.01**250"
   ]
  },
  {
   "cell_type": "code",
   "execution_count": null,
   "metadata": {},
   "outputs": [],
   "source": [
    "\n",
    "start_trading = \"2010-01-5\"\n",
    "\n",
    "\n",
    "\n",
    "returns = ComputeSuite.pct_return(all_data.loc[:,:,start_trading:])\n",
    "returns.index = all_data.loc[:,:,start_trading:].ticker\n",
    "returns.columns = np.array(all_data.loc[:,:,start_trading:][\"eff_date\"])\n",
    "\n",
    "\n",
    "thred =-0.03\n",
    "selected_return = []\n",
    "\n",
    "\n",
    "state_previous_selected = False*np.ones(returns.values.shape[0])\n",
    "skip = 0\n",
    "for t in range(skip,returns.values.shape[1]-2)[::2]:\n",
    "\n",
    "    return_t = returns.values[:,t]\n",
    "    return_t_next = returns.values[:,t+1]\n",
    "    signal = return_t<thred\n",
    "    \n",
    "    return_t[~signal] = None\n",
    "    return_t_next[~signal] = None\n",
    "    selected_return.append(return_t)\n",
    "    selected_return.append(return_t_next)\n",
    "\n",
    "    \n",
    "    \n",
    "selected_return  = np.array(selected_return).T  \n",
    "model_return =  pd.DataFrame(selected_return[:,1:][:,::2])  "
   ]
  },
  {
   "cell_type": "code",
   "execution_count": null,
   "metadata": {},
   "outputs": [],
   "source": [
    "\n",
    "start_trading = \"2010-01-5\"\n",
    "\n",
    "\n",
    "\n",
    "res= []\n",
    "for i in range(30):\n",
    "    selected_return = []\n",
    "    state_previous_selected = False*np.ones(returns.values.shape[0])\n",
    "    skip = i\n",
    "    for t in range(skip,returns.values.shape[1]-2)[::2]:\n",
    "\n",
    "        return_t = returns.values[:,t]\n",
    "        return_t_next = returns.values[:,t+1]\n",
    "        signal = return_t<thred\n",
    "\n",
    "        return_t[~signal] = None\n",
    "        return_t_next[~signal] = None\n",
    "        selected_return.append(return_t)\n",
    "        selected_return.append(return_t_next)\n",
    "\n",
    "\n",
    "\n",
    "    selected_return  = np.array(selected_return).T  \n",
    "    model_return =  pd.DataFrame(selected_return[:,1:][:,::2])  \n",
    "    res.append(model_return.mean(axis=0).mean())"
   ]
  },
  {
   "cell_type": "code",
   "execution_count": null,
   "metadata": {},
   "outputs": [],
   "source": [
    "res"
   ]
  },
  {
   "cell_type": "code",
   "execution_count": null,
   "metadata": {},
   "outputs": [],
   "source": []
  },
  {
   "cell_type": "code",
   "execution_count": null,
   "metadata": {},
   "outputs": [],
   "source": []
  },
  {
   "cell_type": "code",
   "execution_count": null,
   "metadata": {},
   "outputs": [],
   "source": []
  },
  {
   "cell_type": "code",
   "execution_count": null,
   "metadata": {},
   "outputs": [],
   "source": []
  },
  {
   "cell_type": "code",
   "execution_count": null,
   "metadata": {},
   "outputs": [],
   "source": []
  },
  {
   "cell_type": "code",
   "execution_count": null,
   "metadata": {},
   "outputs": [],
   "source": []
  },
  {
   "cell_type": "code",
   "execution_count": null,
   "metadata": {},
   "outputs": [],
   "source": [
    "model_return.mean(axis=1).mean()"
   ]
  },
  {
   "cell_type": "code",
   "execution_count": null,
   "metadata": {},
   "outputs": [],
   "source": []
  },
  {
   "cell_type": "code",
   "execution_count": null,
   "metadata": {},
   "outputs": [],
   "source": [
    "0.020768991037418447"
   ]
  },
  {
   "cell_type": "code",
   "execution_count": null,
   "metadata": {},
   "outputs": [],
   "source": []
  },
  {
   "cell_type": "code",
   "execution_count": null,
   "metadata": {},
   "outputs": [],
   "source": [
    "np.std(returns.values.ravel()[returns.values.ravel()>-99])"
   ]
  },
  {
   "cell_type": "code",
   "execution_count": null,
   "metadata": {},
   "outputs": [],
   "source": [
    "np.std(rt)"
   ]
  },
  {
   "cell_type": "code",
   "execution_count": null,
   "metadata": {},
   "outputs": [],
   "source": [
    "rt = model_return.mean(axis=1)"
   ]
  },
  {
   "cell_type": "code",
   "execution_count": null,
   "metadata": {},
   "outputs": [],
   "source": [
    "sns.distplot(ct)"
   ]
  },
  {
   "cell_type": "code",
   "execution_count": null,
   "metadata": {},
   "outputs": [],
   "source": [
    "sns.distplot(rt[ct>40])\n",
    "sns.distplot(rt[ct<25],color=\"g\")"
   ]
  },
  {
   "cell_type": "code",
   "execution_count": null,
   "metadata": {},
   "outputs": [],
   "source": [
    "### old code below"
   ]
  },
  {
   "cell_type": "code",
   "execution_count": null,
   "metadata": {},
   "outputs": [],
   "source": []
  }
 ],
 "metadata": {
  "kernelspec": {
   "display_name": "Python 3",
   "language": "python",
   "name": "python3"
  },
  "language_info": {
   "codemirror_mode": {
    "name": "ipython",
    "version": 3
   },
   "file_extension": ".py",
   "mimetype": "text/x-python",
   "name": "python",
   "nbconvert_exporter": "python",
   "pygments_lexer": "ipython3",
   "version": "3.8.0"
  }
 },
 "nbformat": 4,
 "nbformat_minor": 2
}
