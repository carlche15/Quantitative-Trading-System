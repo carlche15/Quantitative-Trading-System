{
 "cells": [
  {
   "cell_type": "code",
   "execution_count": 6,
   "metadata": {},
   "outputs": [],
   "source": [
    "from data_handlers import StockHistDataHandler,ComputeSuite\n",
    "import pandas as pd\n",
    "import matplotlib.pyplot as plt\n",
    "import numpy as np\n",
    "import seaborn as sns\n",
    "\n",
    "import warnings\n",
    "warnings.filterwarnings(\"ignore\")\n",
    "from statsmodels.graphics.tsaplots import plot_acf, plot_pacf\n",
    "import xarray as xr\n",
    "data_handler = StockHistDataHandler()"
   ]
  },
  {
   "cell_type": "code",
   "execution_count": 7,
   "metadata": {},
   "outputs": [],
   "source": [
    "tickers = data_handler(sql = \"select ticker from securities\").values.ravel()\n",
    "ts_range = [\"2010-01-05\", \"2020-01-20\"]\n",
    "selected_tickers = tickers\n",
    "all_data = data_handler.get_data(ticker = selected_tickers, invest_horizen = ts_range)"
   ]
  },
  {
   "cell_type": "code",
   "execution_count": 11,
   "metadata": {},
   "outputs": [],
   "source": [
    "start_trading = \"2010-01-5\"\n",
    "returns = ComputeSuite.pct_return(all_data.loc[:,:,start_trading:])\n",
    "returns.index = all_data.loc[:,:,start_trading:].ticker\n",
    "returns.columns = np.array(all_data.loc[:,:,start_trading:][\"eff_date\"])"
   ]
  },
  {
   "cell_type": "code",
   "execution_count": 48,
   "metadata": {},
   "outputs": [],
   "source": [
    "def buy_low(x):\n",
    "    if x[0]<-0.02:\n",
    "        return x[1]\n",
    "    else:\n",
    "        return 0\n",
    "buy_sig = returns.iloc[::15].rolling(2,axis=1).apply(buy_low, raw=True)\n"
   ]
  },
  {
   "cell_type": "code",
   "execution_count": 57,
   "metadata": {},
   "outputs": [
    {
     "data": {
      "image/png": "[encoded data removed]",
      "text/plain": [
       "<Figure size 864x360 with 2 Axes>"
      ]
     },
     "metadata": {
      "needs_background": "light"
     },
     "output_type": "display_data"
    }
   ],
   "source": [
    "fig = plt.figure(figsize=(12,5))\n",
    "_ = sns.heatmap(np.clip(buy_sig,-0.03,0.03),cmap=\"PiYG\").set(xticklabels=[])\n"
   ]
  },
  {
   "cell_type": "code",
   "execution_count": null,
   "metadata": {},
   "outputs": [],
   "source": []
  },
  {
   "cell_type": "code",
   "execution_count": null,
   "metadata": {},
   "outputs": [],
   "source": []
  },
  {
   "cell_type": "code",
   "execution_count": null,
   "metadata": {},
   "outputs": [],
   "source": []
  },
  {
   "cell_type": "code",
   "execution_count": null,
   "metadata": {},
   "outputs": [],
   "source": []
  },
  {
   "cell_type": "code",
   "execution_count": null,
   "metadata": {},
   "outputs": [],
   "source": []
  },
  {
   "cell_type": "code",
   "execution_count": null,
   "metadata": {},
   "outputs": [],
   "source": []
  },
  {
   "cell_type": "code",
   "execution_count": null,
   "metadata": {},
   "outputs": [],
   "source": []
  },
  {
   "cell_type": "code",
   "execution_count": null,
   "metadata": {},
   "outputs": [],
   "source": []
  },
  {
   "cell_type": "code",
   "execution_count": 112,
   "metadata": {},
   "outputs": [],
   "source": [
    "\n",
    "start_trading = \"2010-01-5\"\n",
    "\n",
    "\n",
    "\n",
    "returns = ComputeSuite.pct_return(all_data.loc[:,:,start_trading:])\n",
    "returns.index = all_data.loc[:,:,start_trading:].ticker\n",
    "returns.columns = np.array(all_data.loc[:,:,start_trading:][\"eff_date\"])\n",
    "\n",
    "\n",
    "thred =-0.03\n",
    "selected_return = []\n",
    "\n",
    "\n",
    "state_previous_selected = False*np.ones(returns.values.shape[0])\n",
    "skip = 0\n",
    "for t in range(skip,returns.values.shape[1]-2)[::2]:\n",
    "\n",
    "    return_t = returns.values[:,t]\n",
    "    return_t_next = returns.values[:,t+1]\n",
    "    signal = return_t<thred\n",
    "    \n",
    "    return_t[~signal] = None\n",
    "    return_t_next[~signal] = None\n",
    "    selected_return.append(return_t)\n",
    "    selected_return.append(return_t_next)\n",
    "\n",
    "    \n",
    "    \n",
    "selected_return  = np.array(selected_return).T  \n",
    "model_return =  pd.DataFrame(selected_return[:,1:][:,::2])  "
   ]
  },
  {
   "cell_type": "code",
   "execution_count": 114,
   "metadata": {},
   "outputs": [],
   "source": [
    "\n",
    "start_trading = \"2010-01-5\"\n",
    "\n",
    "\n",
    "\n",
    "res= []\n",
    "for i in range(30):\n",
    "    selected_return = []\n",
    "    state_previous_selected = False*np.ones(returns.values.shape[0])\n",
    "    skip = i\n",
    "    for t in range(skip,returns.values.shape[1]-2)[::2]:\n",
    "\n",
    "        return_t = returns.values[:,t]\n",
    "        return_t_next = returns.values[:,t+1]\n",
    "        signal = return_t<thred\n",
    "\n",
    "        return_t[~signal] = None\n",
    "        return_t_next[~signal] = None\n",
    "        selected_return.append(return_t)\n",
    "        selected_return.append(return_t_next)\n",
    "\n",
    "\n",
    "\n",
    "    selected_return  = np.array(selected_return).T  \n",
    "    model_return =  pd.DataFrame(selected_return[:,1:][:,::2])  \n",
    "    res.append(model_return.mean(axis=0).mean())"
   ]
  },
  {
   "cell_type": "code",
   "execution_count": 115,
   "metadata": {},
   "outputs": [
    {
     "data": {
      "text/plain": [
       "[0.0006278403942392728,\n",
       " -0.050031779107076305,\n",
       " -0.060620251088069566,\n",
       " -0.06033063201145489,\n",
       " -0.046875,\n",
       " -0.06557377049180335,\n",
       " nan,\n",
       " nan,\n",
       " nan,\n",
       " nan,\n",
       " nan,\n",
       " nan,\n",
       " nan,\n",
       " nan,\n",
       " nan,\n",
       " nan,\n",
       " nan,\n",
       " nan,\n",
       " nan,\n",
       " nan,\n",
       " nan,\n",
       " nan,\n",
       " nan,\n",
       " nan,\n",
       " nan,\n",
       " nan,\n",
       " nan,\n",
       " nan,\n",
       " nan,\n",
       " nan]"
      ]
     },
     "execution_count": 115,
     "metadata": {},
     "output_type": "execute_result"
    }
   ],
   "source": [
    "res"
   ]
  },
  {
   "cell_type": "code",
   "execution_count": null,
   "metadata": {},
   "outputs": [],
   "source": []
  },
  {
   "cell_type": "code",
   "execution_count": null,
   "metadata": {},
   "outputs": [],
   "source": []
  },
  {
   "cell_type": "code",
   "execution_count": null,
   "metadata": {},
   "outputs": [],
   "source": []
  },
  {
   "cell_type": "code",
   "execution_count": null,
   "metadata": {},
   "outputs": [],
   "source": []
  },
  {
   "cell_type": "code",
   "execution_count": null,
   "metadata": {},
   "outputs": [],
   "source": []
  },
  {
   "cell_type": "code",
   "execution_count": null,
   "metadata": {},
   "outputs": [],
   "source": []
  },
  {
   "cell_type": "code",
   "execution_count": null,
   "metadata": {},
   "outputs": [],
   "source": [
    "model_return.mean(axis=1).mean()"
   ]
  },
  {
   "cell_type": "code",
   "execution_count": null,
   "metadata": {},
   "outputs": [],
   "source": []
  },
  {
   "cell_type": "code",
   "execution_count": null,
   "metadata": {},
   "outputs": [],
   "source": [
    "0.020768991037418447"
   ]
  },
  {
   "cell_type": "code",
   "execution_count": null,
   "metadata": {},
   "outputs": [],
   "source": []
  },
  {
   "cell_type": "code",
   "execution_count": null,
   "metadata": {},
   "outputs": [],
   "source": [
    "np.std(returns.values.ravel()[returns.values.ravel()>-99])"
   ]
  },
  {
   "cell_type": "code",
   "execution_count": null,
   "metadata": {},
   "outputs": [],
   "source": [
    "np.std(rt)"
   ]
  },
  {
   "cell_type": "code",
   "execution_count": null,
   "metadata": {},
   "outputs": [],
   "source": [
    "rt = model_return.mean(axis=1)"
   ]
  },
  {
   "cell_type": "code",
   "execution_count": null,
   "metadata": {},
   "outputs": [],
   "source": [
    "sns.distplot(ct)"
   ]
  },
  {
   "cell_type": "code",
   "execution_count": null,
   "metadata": {},
   "outputs": [],
   "source": [
    "sns.distplot(rt[ct>40])\n",
    "sns.distplot(rt[ct<25],color=\"g\")"
   ]
  },
  {
   "cell_type": "code",
   "execution_count": null,
   "metadata": {},
   "outputs": [],
   "source": [
    "### old code below"
   ]
  },
  {
   "cell_type": "code",
   "execution_count": null,
   "metadata": {},
   "outputs": [],
   "source": []
  }
 ],
 "metadata": {
  "kernelspec": {
   "display_name": "Python 3",
   "language": "python",
   "name": "python3"
  },
  "language_info": {
   "codemirror_mode": {
    "name": "ipython",
    "version": 3
   },
   "file_extension": ".py",
   "mimetype": "text/x-python",
   "name": "python",
   "nbconvert_exporter": "python",
   "pygments_lexer": "ipython3",
   "version": "3.8.0"
  }
 },
 "nbformat": 4,
 "nbformat_minor": 2
}
