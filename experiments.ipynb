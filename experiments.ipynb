{
 "cells": [
  {
   "cell_type": "code",
   "execution_count": null,
   "metadata": {},
   "outputs": [],
   "source": [
    "from "
   ]
  },
  {
   "cell_type": "code",
   "execution_count": 2,
   "metadata": {},
   "outputs": [
    {
     "ename": "NameError",
     "evalue": "name 'retrieve_data' is not defined",
     "output_type": "error",
     "traceback": [
      "\u001b[0;31m---------------------------------------------------------------------------\u001b[0m",
      "\u001b[0;31mNameError\u001b[0m                                 Traceback (most recent call last)",
      "\u001b[0;32m<ipython-input-2-6ccb15828fde>\u001b[0m in \u001b[0;36m<module>\u001b[0;34m()\u001b[0m\n\u001b[0;32m----> 1\u001b[0;31m \u001b[0mraw_hist\u001b[0m\u001b[0;34m=\u001b[0m\u001b[0mretrieve_data\u001b[0m\u001b[0;34m(\u001b[0m\u001b[0muniverse\u001b[0m\u001b[0;34m=\u001b[0m\u001b[0;34m[\u001b[0m\u001b[0;34m\"AAPL\"\u001b[0m\u001b[0;34m,\u001b[0m\u001b[0;34m\"STT\"\u001b[0m\u001b[0;34m]\u001b[0m\u001b[0;34m,\u001b[0m\u001b[0minvestment_horizen\u001b[0m\u001b[0;34m=\u001b[0m\u001b[0;34m[\u001b[0m\u001b[0;34m\"2000-01-01\"\u001b[0m\u001b[0;34m,\u001b[0m\u001b[0;34m\"2010-01-01\"\u001b[0m\u001b[0;34m]\u001b[0m\u001b[0;34m)\u001b[0m\u001b[0;34m\u001b[0m\u001b[0m\n\u001b[0m",
      "\u001b[0;31mNameError\u001b[0m: name 'retrieve_data' is not defined"
     ]
    }
   ],
   "source": [
    "raw_hist=retrieve_data(universe=[\"AAPL\",\"STT\"],investment_horizen=[\"2000-01-01\",\"2010-01-01\"])"
   ]
  },
  {
   "cell_type": "code",
   "execution_count": 1,
   "metadata": {},
   "outputs": [
    {
     "ename": "NameError",
     "evalue": "name 'to_pannel' is not defined",
     "output_type": "error",
     "traceback": [
      "\u001b[0;31m---------------------------------------------------------------------------\u001b[0m",
      "\u001b[0;31mNameError\u001b[0m                                 Traceback (most recent call last)",
      "\u001b[0;32m<ipython-input-1-5f975aed1c0d>\u001b[0m in \u001b[0;36m<module>\u001b[0;34m()\u001b[0m\n\u001b[0;32m----> 1\u001b[0;31m \u001b[0mcols\u001b[0m\u001b[0;34m,\u001b[0m\u001b[0mhist\u001b[0m\u001b[0;34m=\u001b[0m\u001b[0mto_pannel\u001b[0m\u001b[0;34m(\u001b[0m\u001b[0mraw_hist\u001b[0m\u001b[0;34m)\u001b[0m\u001b[0;34m\u001b[0m\u001b[0m\n\u001b[0m",
      "\u001b[0;31mNameError\u001b[0m: name 'to_pannel' is not defined"
     ]
    }
   ],
   "source": [
    "cols,hist=to_pannel(raw_hist)"
   ]
  },
  {
   "cell_type": "code",
   "execution_count": 72,
   "metadata": {},
   "outputs": [
    {
     "data": {
      "text/plain": [
       "array(['sec_id', 'open_price', 'high_price', 'low_price', 'close_price',\n",
       "       'adj_close_price', 'volume', 'dividend', 'split'], dtype=object)"
      ]
     },
     "execution_count": 72,
     "metadata": {},
     "output_type": "execute_result"
    }
   ],
   "source": [
    "cols"
   ]
  },
  {
   "cell_type": "code",
   "execution_count": 73,
   "metadata": {},
   "outputs": [
    {
     "data": {
      "text/plain": [
       "array([[[3.000000e+00, 1.048750e+02, 1.125000e+02, ..., 1.339492e+08,\n",
       "         0.000000e+00, 1.000000e+00],\n",
       "        [3.000000e+00, 1.082500e+02, 1.106250e+02, ..., 1.280944e+08,\n",
       "         0.000000e+00, 1.000000e+00],\n",
       "        [3.000000e+00, 1.037500e+02, 1.105630e+02, ..., 1.945804e+08,\n",
       "         0.000000e+00, 1.000000e+00],\n",
       "        ...,\n",
       "        [3.000000e+00, 2.126300e+02, 2.127200e+02, ..., 1.113014e+08,\n",
       "         0.000000e+00, 1.000000e+00],\n",
       "        [3.000000e+00, 2.088409e+02, 2.120000e+02, ..., 1.030211e+08,\n",
       "         0.000000e+00, 1.000000e+00],\n",
       "        [3.000000e+00, 2.131300e+02, 2.133500e+02, ..., 8.810270e+07,\n",
       "         0.000000e+00, 1.000000e+00]],\n",
       "\n",
       "       [[4.220000e+02, 7.300000e+01, 7.300000e+01, ..., 1.295400e+06,\n",
       "         0.000000e+00, 1.000000e+00],\n",
       "        [4.220000e+02, 6.950000e+01, 6.950000e+01, ..., 1.316000e+06,\n",
       "         0.000000e+00, 1.000000e+00],\n",
       "        [4.220000e+02, 6.587500e+01, 6.812500e+01, ..., 1.039400e+06,\n",
       "         0.000000e+00, 1.000000e+00],\n",
       "        ...,\n",
       "        [4.220000e+02, 4.462000e+01, 4.480000e+01, ..., 3.048300e+06,\n",
       "         0.000000e+00, 1.000000e+00],\n",
       "        [4.220000e+02, 4.354240e+01, 4.421000e+01, ..., 2.412600e+06,\n",
       "         1.000000e-02, 1.000000e+00],\n",
       "        [4.220000e+02, 4.387880e+01, 4.415000e+01, ..., 1.936100e+06,\n",
       "         0.000000e+00, 1.000000e+00]]])"
      ]
     },
     "execution_count": 73,
     "metadata": {},
     "output_type": "execute_result"
    }
   ],
   "source": [
    "hist"
   ]
  },
  {
   "cell_type": "code",
   "execution_count": null,
   "metadata": {},
   "outputs": [],
   "source": []
  }
 ],
 "metadata": {
  "kernelspec": {
   "display_name": "Python 3",
   "language": "python",
   "name": "python3"
  },
  "language_info": {
   "codemirror_mode": {
    "name": "ipython",
    "version": 3
   },
   "file_extension": ".py",
   "mimetype": "text/x-python",
   "name": "python",
   "nbconvert_exporter": "python",
   "pygments_lexer": "ipython3",
   "version": "3.6.5"
  }
 },
 "nbformat": 4,
 "nbformat_minor": 2
}
